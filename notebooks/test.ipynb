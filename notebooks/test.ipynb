{
 "cells": [
  {
   "cell_type": "markdown",
   "id": "5fe0cea7-9f02-49a5-ac2a-b326d79f3341",
   "metadata": {},
   "source": [
    "<a target=\"_blank\" href=\"https://colab.research.google.com/github/PyThaiNLP/thaixtransformers/blob/main/notebooks/test.ipynb\">\n",
    "  <img src=\"https://colab.research.google.com/assets/colab-badge.svg\" alt=\"Open In Colab\"/>\n",
    "</a>"
   ]
  },
  {
   "cell_type": "code",
   "execution_count": null,
   "id": "1d8d1544-3889-411b-800c-97594837f232",
   "metadata": {},
   "outputs": [],
   "source": [
    "!pip install thaixtransformers"
   ]
  },
  {
   "cell_type": "code",
   "execution_count": 1,
   "id": "b4afa2a3-7be4-4760-945f-cc94d3d75c41",
   "metadata": {
    "tags": []
   },
   "outputs": [],
   "source": [
    "from thaixtransformers import Tokenizer"
   ]
  },
  {
   "cell_type": "code",
   "execution_count": 2,
   "id": "74663d4b-4c95-42a6-ad45-ce15ba7a6bdc",
   "metadata": {
    "tags": []
   },
   "outputs": [
    {
     "name": "stderr",
     "output_type": "stream",
     "text": [
      "The tokenizer class you load from this checkpoint is not the same type as the class this function is called from. It may result in unexpected tokenization. \n",
      "The tokenizer class you load from this checkpoint is 'RobertaTokenizer'. \n",
      "The class this function is called from is 'ThaiWordsNewmmTokenizer'.\n"
     ]
    },
    {
     "name": "stdout",
     "output_type": "stream",
     "text": [
      "Setting ds_accelerator to cuda (auto detect)\n"
     ]
    },
    {
     "data": {
      "application/vnd.jupyter.widget-view+json": {
       "model_id": "2a5b4cde9b3d4a1aa0d18e3a1034cc6e",
       "version_major": 2,
       "version_minor": 0
      },
      "text/plain": [
       "Downloading pytorch_model.bin:   0%|          | 0.00/646M [00:00<?, ?B/s]"
      ]
     },
     "metadata": {},
     "output_type": "display_data"
    }
   ],
   "source": [
    "from transformers import AutoModelForMaskedLM\n",
    "\n",
    "tokenizer = Tokenizer(\"airesearch/wangchanberta-base-wiki-newmm\")\n",
    "model = AutoModelForMaskedLM.from_pretrained(\"airesearch/wangchanberta-base-wiki-newmm\")"
   ]
  },
  {
   "cell_type": "code",
   "execution_count": 3,
   "id": "03e557fe-69e1-46ca-b279-01b8cf18b398",
   "metadata": {
    "tags": []
   },
   "outputs": [],
   "source": [
    "from transformers import pipeline"
   ]
  },
  {
   "cell_type": "code",
   "execution_count": 4,
   "id": "5d767719-c360-4865-9c87-84b7ab167587",
   "metadata": {
    "tags": []
   },
   "outputs": [],
   "source": [
    "classifier = pipeline(\"fill-mask\",model=model,tokenizer=tokenizer)"
   ]
  },
  {
   "cell_type": "code",
   "execution_count": 11,
   "id": "8339ed00-4961-46c2-87a7-7285b803cafa",
   "metadata": {
    "tags": []
   },
   "outputs": [
    {
     "data": {
      "text/plain": [
       "'<s>ผมชอบ<mask>มาก<_>ๆ</s>'"
      ]
     },
     "execution_count": 11,
     "metadata": {},
     "output_type": "execute_result"
    }
   ],
   "source": [
    "tokenizer.decode(tokenizer(\"ผมชอบ<mask>มาก ๆ\")['input_ids'])"
   ]
  },
  {
   "cell_type": "code",
   "execution_count": 8,
   "id": "3c288bdb-f81a-404f-932d-4148fdd44f21",
   "metadata": {
    "tags": []
   },
   "outputs": [
    {
     "data": {
      "text/plain": [
       "[{'score': 0.05261131376028061,\n",
       "  'token': 6052,\n",
       "  'token_str': 'อินเทอร์เน็ต',\n",
       "  'sequence': 'ผมชอบอินเทอร์เน็ตมากๆ'},\n",
       " {'score': 0.03980604186654091,\n",
       "  'token': 11893,\n",
       "  'token_str': 'อ่านหนังสือ',\n",
       "  'sequence': 'ผมชอบอ่านหนังสือมากๆ'},\n",
       " {'score': 0.03092576563358307,\n",
       "  'token': 53126,\n",
       "  'token_str': 'การอาบน้ำ',\n",
       "  'sequence': 'ผมชอบการอาบน้ำมากๆ'},\n",
       " {'score': 0.029391581192612648,\n",
       "  'token': 5213,\n",
       "  'token_str': 'จิตบำบัด',\n",
       "  'sequence': 'ผมชอบจิตบำบัดมากๆ'},\n",
       " {'score': 0.028908131644129753,\n",
       "  'token': 14535,\n",
       "  'token_str': 'เขียนหนังสือ',\n",
       "  'sequence': 'ผมชอบเขียนหนังสือมากๆ'}]"
      ]
     },
     "execution_count": 8,
     "metadata": {},
     "output_type": "execute_result"
    }
   ],
   "source": [
    "classifier(\"ผมชอบ<mask>มาก ๆ\")"
   ]
  },
  {
   "cell_type": "code",
   "execution_count": 1,
   "id": "e5541aad-5ea1-4511-90bf-76415b15da55",
   "metadata": {},
   "outputs": [],
   "source": [
    "from thaixtransformers.preprocess import process_transformers"
   ]
  },
  {
   "cell_type": "code",
   "execution_count": 3,
   "id": "b0610fdc-f751-45e1-8659-58b7748336c8",
   "metadata": {
    "tags": []
   },
   "outputs": [
    {
     "data": {
      "text/plain": [
       "'สวัสดี<_>:d'"
      ]
     },
     "execution_count": 3,
     "metadata": {},
     "output_type": "execute_result"
    }
   ],
   "source": [
    "process_transformers(\"สวัสดี   :D\")"
   ]
  },
  {
   "cell_type": "code",
   "execution_count": null,
   "id": "5169c1f0-21d9-47f1-b0a8-7dbb2d16f827",
   "metadata": {},
   "outputs": [],
   "source": []
  }
 ],
 "metadata": {
  "kernelspec": {
   "display_name": "Python 3 (ipykernel)",
   "language": "python",
   "name": "python3"
  },
  "language_info": {
   "codemirror_mode": {
    "name": "ipython",
    "version": 3
   },
   "file_extension": ".py",
   "mimetype": "text/x-python",
   "name": "python",
   "nbconvert_exporter": "python",
   "pygments_lexer": "ipython3",
   "version": "3.8.10"
  }
 },
 "nbformat": 4,
 "nbformat_minor": 5
}
